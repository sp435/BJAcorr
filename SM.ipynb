@@ -0,0 +1,94 @@
{
 "cells": [
  {
   "cell_type": "code",
   "execution_count": null,
   "id": "9b1f2f89",
   "metadata": {
    "slideshow": {
     "slide_type": "-"
    }
   },
   "outputs": [],
   "source": [
    "#Install all required packages\n",
    "\n",
    "!pip install textblob\n",
    "!pip install nltk\n",
    "import nltk\n",
    "nltk.download('all')\n",
    "\n",
    "\n",
    "#Sentiment analysis calculated the subectivity and polarity scores.\n",
    "\n",
    "#Subjectivity score - The subjectivity is a float within the range [0.0, 1.0] where 0.0 is very objective (factual information)\n",
    "#and 1.0 is very subjective (personal opinion).\n",
    "\n",
    "#Polarity score - The polarity scores of all the words in the text are added together and then normalized to a scale of\n",
    "#-1 to +1,# where -1 indicates extremely negative sentiment, +1 indicates extremely positive sentiment, and 0 indicates \n",
    "#neutral sentiment.\n"
   ]
  },
  {
   "cell_type": "code",
   "execution_count": null,
   "id": "ae60699d",
   "metadata": {
    "slideshow": {
     "slide_type": "slide"
    }
   },
   "outputs": [],
   "source": [
    "#Sentiment analysis - subectivity and polarity scores\n",
    "\n",
    "from textblob import TextBlob\n",
    "import nltk\n",
    "\n",
    "text = '''Most patients experience some pain after surgery. The amount of pain you experience will depend on the type of surgery you had, the severity of your injury, and your individual pain tolerance.\n",
    "There are a number of things that can be done to reduce pain after surgery, including:\n",
    "•\tTaking pain medication as prescribed\n",
    "•\tApplying ice or heat to the area\n",
    "•\tResting the area\n",
    "•\tElevating the area\n",
    "If you are experiencing severe pain after surgery, you should contact your surgeon or nurse. They may be able to prescribe stronger pain medication or recommend other treatments to help reduce your pain.\n",
    "It is important to remember that pain is a subjective experience. What one person considers to be a mild pain may be considered a severe pain by another person. There is no right or wrong way to experience pain.\n",
    "If you are feeling anxious about pain after surgery, you should talk to your doctor or nurse. They can help you to develop a plan to manage your pain and to cope with any anxiety that you may be feeling.\n",
    "\n",
    "''' \n",
    "\n",
    "blob = TextBlob(text)\n",
    "blob.sentiment "
   ]
  }
 ],
 "metadata": {
  "celltoolbar": "Slideshow",
  "kernelspec": {
   "display_name": "Python 3 (ipykernel)",
   "language": "python",
   "name": "python3"
  },
  "language_info": {
   "codemirror_mode": {
    "name": "ipython",
    "version": 3
   },
   "file_extension": ".py",
   "mimetype": "text/x-python",
   "name": "python",
   "nbconvert_exporter": "python",
   "pygments_lexer": "ipython3",
   "version": "3.9.13"
  },
  "widgets": {
   "application/vnd.jupyter.widget-state+json": {
    "state": {},
    "version_major": 2,
    "version_minor": 0
   }
  }
 },
 "nbformat": 4,
 "nbformat_minor": 5
}
